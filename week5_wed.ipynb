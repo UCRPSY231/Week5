{
 "cells": [
  {
   "cell_type": "code",
   "execution_count": 31,
   "metadata": {
    "collapsed": false
   },
   "outputs": [],
   "source": [
    "## Welcome to Week 5 ##\n",
    "# Today we are going to try some validation\n",
    "\n",
    "##Imports##\n",
    "__author__ = 'bdyetton'\n",
    "import pandas as pd\n",
    "import numpy as np\n",
    "import matplotlib.pyplot as plt\n",
    "import sklearn\n",
    "from sklearn.preprocessing import MinMaxScaler\n",
    "from sklearn.model_selection import train_test_split\n",
    "from sklearn.feature_extraction.text import CountVectorizer\n",
    "from sklearn.linear_model import SGDClassifier\n",
    "from sklearn.model_selection import GridSearchCV"
   ]
  },
  {
   "cell_type": "code",
   "execution_count": 32,
   "metadata": {
    "collapsed": false
   },
   "outputs": [],
   "source": [
    "#Load and prepare data\n",
    "all_charts = pd.read_csv('BillboardLyricData.txt', sep='\\t', encoding='utf-8')\n",
    "all_charts = all_charts.dropna() ## Remove missing data\n",
    "\n",
    "class_mapping = {label:idx for idx,label in enumerate(np.unique(all_charts.chart))}\n",
    "y_raw = all_charts.chart.map(class_mapping)\n",
    "\n",
    "vectorizer = CountVectorizer(max_df=0.95, min_df=2,max_features=1000,stop_words='english')                              \n",
    "vectorizer.fit(all_charts.lyrics) #Creates the dictionary to convert lyrics to counts\n",
    "word_vector = vectorizer.transform(all_charts.lyrics) #Does actual conversion\n",
    "X_raw = word_vector.todense()"
   ]
  },
  {
   "cell_type": "code",
   "execution_count": 33,
   "metadata": {
    "collapsed": true
   },
   "outputs": [],
   "source": [
    "#Split of test set, and set aside (dont touch until after we have found the best hyperparameters)\n",
    "X_train_and_valid, X_test, y_train_and_valid, y_test = train_test_split(X_raw, y_raw, test_size=0.3)"
   ]
  },
  {
   "cell_type": "code",
   "execution_count": 34,
   "metadata": {
    "collapsed": true
   },
   "outputs": [],
   "source": [
    "#Split of validation and train set from the remaining\n",
    "X_train, X_valid, y_train, y_valid = train_test_split(X_train_and_valid, y_train_and_valid, test_size=0.3)"
   ]
  },
  {
   "cell_type": "code",
   "execution_count": 35,
   "metadata": {
    "collapsed": false
   },
   "outputs": [
    {
     "name": "stdout",
     "output_type": "stream",
     "text": [
      "best n_iters: 1000.0\n",
      "best alpha: 0.01\n"
     ]
    }
   ],
   "source": [
    "# As a teaching excercise, we will optimize each hyperparameter in turn (this is not guarenteed to return the best hyperparams).\n",
    "# To keep things simple we will just optimize over 2 hyperparameters, n_iter, and L1 regularization\n",
    "\n",
    "# YOUR TASK: K-fold cross validate (w. 5 folds) this whole block to find the best hyperparameters \n",
    "\n",
    "#Training and Test wrt. n_iterations:\n",
    "n_iters = np.logspace(1,3,num=3)\n",
    "train_acc = []\n",
    "test_acc = []\n",
    "for n_iter in n_iters:\n",
    "    # sklearn implementation\n",
    "    model_2 = SGDClassifier(loss='log', n_iter=n_iter, penalty='none')\n",
    "    model_2.fit(X_train, y_train)\n",
    "    train_acc.append(model_2.score(X_train, y_train))\n",
    "    test_acc.append(model_2.score(X_test, y_test))\n",
    "    \n",
    "best_n_iters = n_iters[test_acc.index(max(test_acc))]\n",
    "print('best n_iters:',best_n_iters)\n",
    "\n",
    "#Training and Test wrt. Learning Rate:\n",
    "#Alpha is how much l1/l2 regularization penalty we want to apply\n",
    "alphas = np.logspace(-5, -3 , num=3)\n",
    "train_acc = []\n",
    "test_acc = []\n",
    "for alpha in alphas:\n",
    "    # sklearn implementation\n",
    "    model_2 = SGDClassifier(loss='log', n_iter=best_n_iters, penalty='l1',alpha=alpha)\n",
    "    model_2.fit(X_train, y_train)\n",
    "    train_acc.append(model_2.score(X_train, y_train))\n",
    "    test_acc.append(model_2.score(X_test, y_test))\n",
    "    \n",
    "best_alpha = alphas[test_acc.index(max(test_acc))]\n",
    "print('best alpha:',best_alpha)"
   ]
  },
  {
   "cell_type": "code",
   "execution_count": 36,
   "metadata": {
    "collapsed": false
   },
   "outputs": [
    {
     "name": "stdout",
     "output_type": "stream",
     "text": [
      "Final Train acc that you would quote in a paper: 0.473162675475\n",
      "Final Test acc that you would quote in a paper: 0.394990366089\n"
     ]
    }
   ],
   "source": [
    "# Now that we have our best hyperparameters, lets train those on the train+validation dataset, and get an accuracy on the test...\n",
    "model_2 = SGDClassifier(loss='log', n_iter=best_n_iters, penalty='l1',alpha=best_alpha)\n",
    "model_2.fit(X_train_and_valid, y_train_and_valid)\n",
    "print('Final Train acc that you would quote in a paper:',model_2.score(X_train_and_valid, y_train_and_valid))\n",
    "print('Final Test acc that you would quote in a paper:',model_2.score(X_test, y_test))"
   ]
  },
  {
   "cell_type": "code",
   "execution_count": null,
   "metadata": {
    "collapsed": false
   },
   "outputs": [],
   "source": [
    "# Ok, so the above is there to teach you the basics behind tuning hyper parameters, \n",
    "# however, these parameters are not independent, and there is some distribution over them that gives the best performance\n",
    "# We need to optimize over all the possible combinations of hyper parameters. \n",
    "# Because the parameter space is relativly small (3 n_iters, 3 alphas, 3*3=9 possible combinations), \n",
    "# we can use a brute force method to search over all call gridsearch (this still takes a long long time!).\n",
    "\n",
    "param_grid = [{'alpha': alphas, 'n_iter': n_iters,}] #Define the parameters to search over, all possible combinations of params will be tested\n",
    "log_regression_classifier = SGDClassifier(loss='log', penalty='l1') #Use a log regression classifier with l1 regularization\n",
    "hyper_param_grid_searcher = GridSearchCV(log_regression_classifier, param_grid,cv=3) #define grid search object (w. 3 cross folds to speed things up)\n",
    "hyper_param_grid_searcher.fit(X_train_and_valid,y_train_and_valid) #perform search over parameters\n",
    "#print('Best Fitting Params:',hyper_param_grid_searcher.get_params())\n",
    "print('Final Train acc that you would quote in a paper:',hyper_param_grid_searcher.score(X_train_and_valid, y_train_and_valid))\n",
    "print('Final Test acc that you would quote in a paper:',hyper_param_grid_searcher.score(X_test, y_test))\n"
   ]
  },
  {
   "cell_type": "code",
   "execution_count": null,
   "metadata": {
    "collapsed": true
   },
   "outputs": [],
   "source": []
  }
 ],
 "metadata": {
  "kernelspec": {
   "display_name": "Python 3",
   "language": "python",
   "name": "python3"
  },
  "language_info": {
   "codemirror_mode": {
    "name": "ipython",
    "version": 3
   },
   "file_extension": ".py",
   "mimetype": "text/x-python",
   "name": "python",
   "nbconvert_exporter": "python",
   "pygments_lexer": "ipython3",
   "version": "3.6.0"
  }
 },
 "nbformat": 4,
 "nbformat_minor": 2
}
