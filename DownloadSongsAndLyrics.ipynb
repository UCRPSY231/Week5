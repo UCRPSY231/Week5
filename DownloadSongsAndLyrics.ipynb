{
 "cells": [
  {
   "cell_type": "code",
   "execution_count": 9,
   "metadata": {
    "collapsed": false
   },
   "outputs": [],
   "source": [
    "##Imports##\n",
    "__author__ = 'bdyetton'\n",
    "import billboard\n",
    "import datetime\n",
    "import pandas as pd\n",
    "import numpy as np\n",
    "import swagger_client\n",
    "import warnings\n",
    "from swagger_client.rest import ApiException"
   ]
  },
  {
   "cell_type": "code",
   "execution_count": 10,
   "metadata": {
    "collapsed": true
   },
   "outputs": [],
   "source": [
    "## a \"pure function\", a function that does not rely on anything internal in the download lyrics class, so written seperatly\n",
    "def get_every_week_since(year, month=1, day=1):\n",
    "    time_start = datetime.datetime(year=year, month=month, day=day)\n",
    "    time_inc = datetime.timedelta(days=7)\n",
    "    time_now = datetime.datetime.now()\n",
    "    current_time = time_start\n",
    "    times = []\n",
    "    while current_time < time_now:\n",
    "        times.append(current_time)\n",
    "        current_time += time_inc\n",
    "    return len(times), times"
   ]
  },
  {
   "cell_type": "code",
   "execution_count": 11,
   "metadata": {
    "collapsed": false
   },
   "outputs": [],
   "source": [
    "class DownloadSongsAndLyrics(object):\n",
    "    \"\"\"A quick and dirty program to download the top billboard songs from a range of genre's and then grab their lyrics from musicmix\"\"\"\n",
    "\n",
    "    def __init__(self):\n",
    "        swagger_client.configuration.api_key['apikey'] = '82414131af109a5fbece76fd5bff52bb'\n",
    "        self.musicmix_lyric_instance = swagger_client.LyricsApi()\n",
    "        self.musicmix_track_instance = swagger_client.TrackApi()\n",
    "\n",
    "\n",
    "    def get_all_songs_from_all_charts(self,songs_per_week=1,get_all_years_since=2017,charts=['hot-holiday-songs','christian-songs','country-songs','rock-songs','pop-songs','r-b-hip-hop-songs','dance-electronic-songs']):\n",
    "        \"\"\"Downloads all the song indormation (w.o. lyrics) from all billboard charts.\"\"\"\n",
    "        self.charts = charts\n",
    "        self.songs_per_week = songs_per_week\n",
    "        chart_songs = []\n",
    "        for chart in self.charts:\n",
    "            chart_songs.append(self.get_all_songs_from_chart(chart,get_all_years_since))\n",
    "        all_charts_df = pd.concat(chart_songs) #concatinate the list of pandas df to a single df\n",
    "        return all_charts_df\n",
    " \n",
    "    def get_all_songs_from_chart(self,chart_name,query_year=2017,max_weeks_missing=5):\n",
    "        print('Beginning download for chart',chart_name)\n",
    "        num_weeks_to_look_back, weeks_to_look_back = get_every_week_since(year=query_year)\n",
    "        num_songs_to_download = num_weeks_to_look_back*self.songs_per_week\n",
    "        #This is where we will save our downloaded song data too\n",
    "        song_df = pd.DataFrame(columns=('chart','title', 'artist', 'weeks', 'rank', 'query_week', 'lyrics'))\n",
    "        miss_counter = 0\n",
    "        #Now step back for num_weeks\n",
    "        for week_idx in range(0, num_weeks_to_look_back): #Better would be to interate over weeks\n",
    "            try:\n",
    "                if week_idx == 0:\n",
    "                    chart_data = billboard.ChartData(chart_name)\n",
    "                    next_date_to_get = chart_data.previousDate\n",
    "                else:             \n",
    "                    chart_data = billboard.ChartData(chart_name, next_date_to_get)\n",
    "                    if not chart_data:\n",
    "                        raise AttributeError(\"Missing data\")\n",
    "                    else:\n",
    "                        next_date_to_get = chart_data.previousDate\n",
    "            except AttributeError as e:\n",
    "                miss_counter += 1\n",
    "                if miss_counter > max_weeks_missing:\n",
    "                    warnings.warn(\"Too many weeks of this chart missing, moving on to next chart\")\n",
    "                    break\n",
    "                print(\"\\nMissing song data for %s, %s\\n\" % (chart_name, next_date_to_get))\n",
    "                current_missing_date = datetime.datetime.strptime(next_date_to_get, '%Y-%m-%d')\n",
    "                previous_date = current_missing_date - datetime.timedelta(days=7)\n",
    "                next_date_to_get = previous_date.strftime('%Y-%m-%d')\n",
    "                print('trying new date of:',next_date_to_get)\n",
    "                continue\n",
    "            songs_from_current_week = 0;\n",
    "            for song in chart_data:\n",
    "                if song.title in song_df[\"title\"].values and song.artist in song_df[\"artist\"].values:\n",
    "                    continue               \n",
    "                lyrics = self.get_lyric_data_for_song(song.title,song.artist)\n",
    "                if lyrics is not None:\n",
    "                    print(\"\\r\",'Downloaded song',song_df.shape[0]+1,'of',num_songs_to_download, end=\"\")\n",
    "                    song_df.loc[song_df.shape[0]+1] = [chart_name,song.title, song.artist, song.weeks, song.rank, chart_data.previousDate,lyrics]\n",
    "                    songs_from_current_week += 1;\n",
    "                    if songs_from_current_week >= self.songs_per_week:\n",
    "                        break\n",
    "        print(' --- Chart Download Complete')\n",
    "        return song_df\n",
    "    \n",
    "    def get_lyric_data_for_song(self,song_title, song_artist):\n",
    "        try:\n",
    "            lyric_response_data = self.musicmix_lyric_instance.matcher_lyrics_get_get(q_track=song_title, q_artist=song_artist)\n",
    "            lyric_data = lyric_response_data.message.body.lyrics\n",
    "            if lyric_data is None:\n",
    "                return None\n",
    "            return lyric_data.lyrics_body.replace('******* This Lyrics is NOT for Commercial use *******','')\n",
    "        except ApiException as e:\n",
    "            print(\"Warning: Exception when getting lyrics for %s, %s: %s\\n\" % (e, song.title, song.artist))\n",
    "            return None\n",
    "    \n",
    "        "
   ]
  },
  {
   "cell_type": "code",
   "execution_count": 12,
   "metadata": {
    "collapsed": false
   },
   "outputs": [
    {
     "name": "stdout",
     "output_type": "stream",
     "text": [
      "Downloading song and lyric data\n",
      "Beginning download for chart hot-holiday-songs\n",
      " Downloaded song 50 of 350\n",
      "Missing song data for hot-holiday-songs, 2015-12-05\n",
      "\n",
      "trying new date of: 2015-11-28\n",
      "\n",
      "Missing song data for hot-holiday-songs, 2015-11-28\n",
      "\n",
      "trying new date of: 2015-11-21\n",
      "\n",
      "Missing song data for hot-holiday-songs, 2015-11-21\n",
      "\n",
      "trying new date of: 2015-11-14\n",
      "\n",
      "Missing song data for hot-holiday-songs, 2015-11-14\n",
      "\n",
      "trying new date of: 2015-11-07\n",
      "\n",
      "Missing song data for hot-holiday-songs, 2015-11-07\n",
      "\n",
      "trying new date of: 2015-10-31\n"
     ]
    },
    {
     "name": "stderr",
     "output_type": "stream",
     "text": [
      "C:\\Users\\bdyet\\Anaconda3\\lib\\site-packages\\ipykernel\\__main__.py:42: UserWarning: Too many weeks of this chart missing, moving on to next chart\n"
     ]
    },
    {
     "name": "stdout",
     "output_type": "stream",
     "text": [
      " --- Chart Download Complete\n",
      "Beginning download for chart christian-songs\n",
      " Downloaded song 271 of 350 --- Chart Download Complete350 of 350 218 of 350\n",
      "Beginning download for chart country-songs\n",
      " Downloaded song 247 of 350 --- Chart Download Completeloaded song 130 of 350Downloaded song 132 of 350Downloaded song 190 of 350229 of 350 233 of 350\n",
      "Beginning download for chart rock-songs\n",
      " Downloaded song 348 of 350 --- Chart Download Complete\n",
      "Beginning download for chart pop-songs\n",
      " Downloaded song 225 of 350of 350 of 350 --- Chart Download Complete\n",
      "Beginning download for chart r-b-hip-hop-songs\n",
      " Downloaded song 327 of 350 --- Chart Download Completeloaded song 74 of 350\n",
      "Beginning download for chart dance-electronic-songs\n",
      " Downloaded song 296 of 350of 350 --- Chart Download Complete\n",
      "Finished downloading, saving to BillboardLyricData.txt as tab seperated file\n"
     ]
    }
   ],
   "source": [
    "if __name__ == \"__main__\":\n",
    "    print(\"Downloading song and lyric data\")\n",
    "    downloader = DownloadSongsAndLyrics()\n",
    "    all_charts = downloader.get_all_songs_from_all_charts(songs_per_week=5,get_all_years_since=2016)\n",
    "    all_charts.to_csv('BillboardLyricData.txt', sep='\\t', encoding='utf-8') #write that bad boy out to file\n",
    "    print(\"Finished downloading, saving to BillboardLyricData.txt as tab seperated file\")"
   ]
  },
  {
   "cell_type": "code",
   "execution_count": null,
   "metadata": {
    "collapsed": true
   },
   "outputs": [],
   "source": []
  }
 ],
 "metadata": {
  "kernelspec": {
   "display_name": "Python 3",
   "language": "python",
   "name": "python3"
  },
  "language_info": {
   "codemirror_mode": {
    "name": "ipython",
    "version": 3
   },
   "file_extension": ".py",
   "mimetype": "text/x-python",
   "name": "python",
   "nbconvert_exporter": "python",
   "pygments_lexer": "ipython3",
   "version": "3.6.0"
  }
 },
 "nbformat": 4,
 "nbformat_minor": 2
}
