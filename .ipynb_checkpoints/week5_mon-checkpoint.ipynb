{
 "cells": [
  {
   "cell_type": "code",
   "execution_count": 94,
   "metadata": {
    "collapsed": false
   },
   "outputs": [],
   "source": [
    "## Welcome to Week 5 ##\n",
    "# Today we are going to investigate overfitting and hyperparameters\n",
    "\n",
    "##Imports##\n",
    "__author__ = 'bdyetton'\n",
    "import pandas as pd\n",
    "import numpy as np\n",
    "import matplotlib.pyplot as plt\n",
    "import sklearn\n",
    "from sklearn.preprocessing import MinMaxScaler\n",
    "from sklearn.model_selection import train_test_split\n",
    "from sklearn.feature_extraction.text import CountVectorizer\n",
    "from sklearn.linear_model import SGDClassifier"
   ]
  },
  {
   "cell_type": "code",
   "execution_count": 95,
   "metadata": {
    "collapsed": false
   },
   "outputs": [
    {
     "name": "stdout",
     "output_type": "stream",
     "text": [
      "Raw DataFrame size: (1730, 8)\n"
     ]
    }
   ],
   "source": [
    "#Load data\n",
    "all_charts = pd.read_csv('BillboardLyricData.txt', sep='\\t', encoding='utf-8')\n",
    "all_charts = all_charts.dropna() ## Remove missing data\n",
    "print('Raw DataFrame size:',all_charts.shape)"
   ]
  },
  {
   "cell_type": "code",
   "execution_count": 96,
   "metadata": {
    "collapsed": false
   },
   "outputs": [
    {
     "name": "stdout",
     "output_type": "stream",
     "text": [
      "X data (word count features) size (1730, 1000)\n"
     ]
    }
   ],
   "source": [
    "# Song lyrics are converted to vectors of word counts via sklearn\n",
    "n_features_to_extract_from_text = 1000 #Number of predictor variables (words to use as predictors)\n",
    "vectorizer = CountVectorizer(max_df=0.95, min_df=2,max_features=n_features_to_extract_from_text,stop_words='english')                              \n",
    "vectorizer.fit(all_charts.lyrics) #Creates the dictionary to convert lyrics to counts\n",
    "word_vector = vectorizer.transform(all_charts.lyrics) #Does actual conversion\n",
    "X = word_vector.todense()\n",
    "print('X data (word count features) size',X.shape)"
   ]
  },
  {
   "cell_type": "code",
   "execution_count": 97,
   "metadata": {
    "collapsed": false
   },
   "outputs": [],
   "source": [
    "# 7. Convert genre lables to ints\n",
    "class_mapping = {label:idx for idx,label in enumerate(np.unique(all_charts.chart))}\n",
    "y = all_charts.chart.map(class_mapping)"
   ]
  },
  {
   "cell_type": "code",
   "execution_count": 98,
   "metadata": {
    "collapsed": false
   },
   "outputs": [],
   "source": [
    "# split into train and test\n",
    "X_train, X_test, y_train, y_test = train_test_split(X, y, test_size=0.3)\n"
   ]
  },
  {
   "cell_type": "code",
   "execution_count": 99,
   "metadata": {
    "collapsed": false
   },
   "outputs": [
    {
     "name": "stderr",
     "output_type": "stream",
     "text": [
      "C:\\Users\\bdyet\\Anaconda3\\lib\\site-packages\\sklearn\\utils\\validation.py:429: DataConversionWarning: Data with input dtype int64 was converted to float64 by MinMaxScaler.\n",
      "  warnings.warn(msg, _DataConversionWarning)\n"
     ]
    }
   ],
   "source": [
    "# YOUR TASK 4: Scale X Data\n",
    "min_max_scaler = MinMaxScaler()\n",
    "X_train = min_max_scaler.fit_transform(X_train)\n",
    "X_test = min_max_scaler.transform(X_test)"
   ]
  },
  {
   "cell_type": "code",
   "execution_count": 102,
   "metadata": {
    "collapsed": false
   },
   "outputs": [
    {
     "data": {
      "image/png": "[encoded data removed]",
      "text/plain": [
       "<matplotlib.figure.Figure at 0x1c183cd25c0>"
      ]
     },
     "metadata": {},
     "output_type": "display_data"
    }
   ],
   "source": [
    "#Training and Test wrt. n_iterations:\n",
    "n_iters = np.logspace(1,4,num=4)\n",
    "train_acc = []\n",
    "test_acc = []\n",
    "for n_iter in n_iters:\n",
    "    # sklearn implementation\n",
    "    model_2 = SGDClassifier(loss='log', n_iter=n_iter, penalty='none')\n",
    "    model_2.fit(X_train, y_train)\n",
    "    train_acc.append(model_2.score(X_train, y_train))\n",
    "    test_acc.append(model_2.score(X_test, y_test))\n",
    "    \n",
    "plt.plot(n_iters,train_acc,label='Train')\n",
    "plt.plot(n_iters,test_acc,label='Test')\n",
    "plt.xscale('log')\n",
    "plt.ylabel('Accuracy')\n",
    "plt.xlabel('Number of iterations (training epochs)')\n",
    "plt.legend()\n",
    "plt.ylim((0,1))\n",
    "plt.show()"
   ]
  },
  {
   "cell_type": "code",
   "execution_count": 103,
   "metadata": {
    "collapsed": false
   },
   "outputs": [
    {
     "data": {
      "image/png": "[encoded data removed]",
      "text/plain": [
       "<matplotlib.figure.Figure at 0x1c1ff036128>"
      ]
     },
     "metadata": {},
     "output_type": "display_data"
    }
   ],
   "source": [
    "#Training and Test wrt. Learning Rate:\n",
    "learning_rates = np.logspace(-5, -1 , num=5)\n",
    "train_acc = []\n",
    "test_acc = []\n",
    "for lr in learning_rates:\n",
    "    # sklearn implementation\n",
    "    model_2 = SGDClassifier(loss='log', n_iter=100, learning_rate='constant', eta0=lr, penalty='none')\n",
    "    model_2.fit(X_train, y_train)\n",
    "    train_acc.append(model_2.score(X_train, y_train))\n",
    "    test_acc.append(model_2.score(X_test, y_test))\n",
    "    \n",
    "plt.plot(learning_rates,train_acc,label='Train')\n",
    "plt.plot(learning_rates,test_acc,label='Test')\n",
    "plt.xscale('log')\n",
    "plt.ylabel('Accuracy')\n",
    "plt.xlabel('Learning Rate')\n",
    "plt.legend()\n",
    "plt.ylim((0,1))\n",
    "plt.show()\n",
    "    "
   ]
  },
  {
   "cell_type": "code",
   "execution_count": null,
   "metadata": {
    "collapsed": false
   },
   "outputs": [],
   "source": [
    "#Training and Test wrt. Learning Rate:\n",
    "#Alpha is how much l1/l2 regularization penalty we want to apply\n",
    "alphas = np.logspace(-6, -1 , num=6)\n",
    "train_acc = []\n",
    "test_acc = []\n",
    "for alpha in alphas:\n",
    "    # sklearn implementation\n",
    "    model_2 = SGDClassifier(loss='log', n_iter=100, penalty='l1',alpha=alpha)\n",
    "    model_2.fit(X_train, y_train)\n",
    "    train_acc.append(model_2.score(X_train, y_train))\n",
    "    test_acc.append(model_2.score(X_test, y_test))\n",
    "    \n",
    "plt.plot(alphas,train_acc,label='Train')\n",
    "plt.plot(alphas,test_acc,label='Test')\n",
    "plt.xscale('log')\n",
    "plt.legend()\n",
    "plt.ylabel('accuracy')\n",
    "plt.xlabel('Regularization Penalty (alpha)')\n",
    "plt.ylim((0,1))\n",
    "plt.show()"
   ]
  },
  {
   "cell_type": "code",
   "execution_count": null,
   "metadata": {
    "collapsed": true
   },
   "outputs": [],
   "source": []
  }
 ],
 "metadata": {
  "kernelspec": {
   "display_name": "Python 3",
   "language": "python",
   "name": "python3"
  },
  "language_info": {
   "codemirror_mode": {
    "name": "ipython",
    "version": 3
   },
   "file_extension": ".py",
   "mimetype": "text/x-python",
   "name": "python",
   "nbconvert_exporter": "python",
   "pygments_lexer": "ipython3",
   "version": "3.6.0"
  }
 },
 "nbformat": 4,
 "nbformat_minor": 2
}
