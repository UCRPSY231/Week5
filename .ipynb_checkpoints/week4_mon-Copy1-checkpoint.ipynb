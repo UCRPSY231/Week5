{
 "cells": [
  {
   "cell_type": "code",
   "execution_count": 54,
   "metadata": {
    "collapsed": false
   },
   "outputs": [],
   "source": [
    "## Welcome to Week 4 ##\n",
    "# Today we are going to build a model to predict the genre of a song from its lyrics\n",
    "# Program Overview (Some tasks you will have to implement yourself):\n",
    "# 1. The top songs from various billboard genre charts are downloaded\n",
    "# 2. Each songs lyrics are downloaded from musicmix via their python API\n",
    "# 3. Raw lyric data, and various other billboard variables are saved out to file (so you dont have to download every time!)\n",
    "# 4. Song lyrics are converted to vectors of word counts via sklean\n",
    "# 6. YOUR TASK 1: Deal with missingness: there are some nans in the data, youll have to get these out!\n",
    "# 7. YOUR TASK 2: Convert genre lables to ints\n",
    "# 8. Train/Test Split\n",
    "# 9. YOUR TASK 3: Scale X Data (i.e. standardize between -1 and 1)\n",
    "# 10. Train multiclass logistic regression model to predict genre\n",
    "# 11. Test and print accuracy on test set\n",
    "# 12. Plot Training vs Test over time\n",
    "\n",
    "\n",
    "# 13. EXTRA TASK FOR EXPERTS: Modify steps 9-11 to do k-fold cross-validation with 5 folds\n",
    "# - This is where you split the data into 5 parts, and train on 4 parts, then test on one. \n",
    "#   Then you reorder, so that the train and test sets are made up of different parts, so that each part is tested on at least once\n",
    "\n",
    "\n",
    "## If you are going to download data then you must download some tools.\n",
    "# In the command line/terminal paste the following two lines to install the required python packages:\n",
    "# pip install -r requirements.txt\n",
    "# python python_client/setup.py install\n",
    "\n",
    "##Imports##\n",
    "__author__ = 'bdyetton'\n",
    "import billboard\n",
    "import datetime\n",
    "import pandas as pd\n",
    "import numpy as np\n",
    "import matplotlib.pyplot as plt\n",
    "import swagger_client\n",
    "import sklearn\n",
    "from swagger_client.rest import ApiException\n",
    "from sklearn.cross_validation import train_test_split\n",
    "\n",
    "#import os\n",
    "#import time\n",
    "#import csv\n",
    "#from pprint import pprint\n",
    "#import urllib3\n",
    "#urllib3.disable_warnings()\n",
    "from sklearn.feature_extraction.text import CountVectorizer"
   ]
  },
  {
   "cell_type": "code",
   "execution_count": 8,
   "metadata": {
    "collapsed": true
   },
   "outputs": [],
   "source": [
    "## a \"pure function\", a function that does not rely on anything internal in the download lyrics class, so written seperatly\n",
    "def get_every_week_since(year, month=1, day=1):\n",
    "    time_start = datetime.datetime(year=year, month=month, day=day)\n",
    "    time_inc = datetime.timedelta(days=7)\n",
    "    time_now = datetime.datetime.now()\n",
    "    current_time = time_start\n",
    "    times = []\n",
    "    while current_time < time_now:\n",
    "        times.append(current_time)\n",
    "        current_time += time_inc\n",
    "    return len(times), times"
   ]
  },
  {
   "cell_type": "code",
   "execution_count": 24,
   "metadata": {
    "collapsed": false
   },
   "outputs": [],
   "source": [
    "## Class def\n",
    "class DownloadSongsAndLyrics(object):\n",
    "    \"\"\"A quick and dirty program to download the top billboard songs from a range of genre's and then grab their lyrics from musicmix\"\"\"\n",
    "\n",
    "    def __init__(self,songs_per_week=1,charts=['hot-holiday-songs','christian-songs','country-songs','rock-songs','pop-songs','r-b-hip-hop-songs','dance-electronic-songs']):\n",
    "        self.charts = charts \n",
    "        swagger_client.configuration.api_key['apikey'] = '82414131af109a5fbece76fd5bff52bb'\n",
    "        self.musicmix_lyric_instance = swagger_client.LyricsApi()\n",
    "        self.musicmix_track_instance = swagger_client.TrackApi()\n",
    "        self.songs_per_week = songs_per_week\n",
    "\n",
    "    def get_all_songs_from_all_charts(self):\n",
    "        \"\"\"Downloads all the song indormation (w.o. lyrics) from all billboard charts.\"\"\"\n",
    "        chart_songs = []\n",
    "        for chart in self.charts:\n",
    "            chart_songs.append(self.get_all_songs_from_chart(chart))\n",
    "        all_charts_df = pd.concat(chart_songs) #concatinate the list of pandas df to a single df\n",
    "        return all_charts_df\n",
    " \n",
    "    def get_all_songs_from_chart(self,chart_name,query_year=2017):\n",
    "        num_weeks_to_look_back, weeks_to_look_back = get_every_week_since(year=query_year)\n",
    "        \n",
    "        #This is where we will save our downloaded song data too\n",
    "        song_df = pd.DataFrame(columns=('chart','title', 'artist', 'weeks', 'rank', 'query_week', 'lyrics'))\n",
    "        \n",
    "        #Now step back for num_weeks\n",
    "        for week_idx in range(0, num_weeks_to_look_back):\n",
    "            try:\n",
    "                if week_idx == 0:\n",
    "                    chart_data = billboard.ChartData(chart_name)\n",
    "                else:\n",
    "                    chart_data = billboard.ChartData(chart_name, chart_data.previousDate)\n",
    "            except AttributeError as e:\n",
    "                print(\"Missing song data for song data for %s, %s\\n\" % (chart_name, chart_data.previousDate))\n",
    "                continue\n",
    "            songs_from_current_week = 0;\n",
    "            for song in chart_data:\n",
    "                if song.title in song_df[\"title\"].values and song.artist in song_df[\"artist\"].values:\n",
    "                    continue               \n",
    "                lyrics = self.get_lyric_data_for_song(song.title,song.artist)\n",
    "                if lyrics is not None:\n",
    "                    song_df.loc[song_df.shape[0]+1] = [chart_name,song.title, song.artist, song.weeks, song.rank, chart_data.previousDate,lyrics]\n",
    "                    songs_from_current_week += 1;\n",
    "                    if songs_from_current_week > self.songs_per_week:\n",
    "                        break\n",
    "        return song_df\n",
    "    \n",
    "    def get_lyric_data_for_song(self,song_title, song_artist):\n",
    "        try:\n",
    "            lyric_response_data = self.musicmix_lyric_instance.matcher_lyrics_get_get(q_track=song_title, q_artist=song_artist)\n",
    "            lyric_data = lyric_response_data.message.body.lyrics\n",
    "            if lyric_data is None:\n",
    "                return None\n",
    "            return lyric_data.lyrics_body.replace('******* This Lyrics is NOT for Commercial use *******','')\n",
    "        except ApiException as e:\n",
    "            print(\"Warning: Exception when getting lyrics for %s, %s: %s\\n\" % (e, song.title, song.artist))\n",
    "            return None    \n",
    "    \n",
    "        "
   ]
  },
  {
   "cell_type": "code",
   "execution_count": 24,
   "metadata": {
    "collapsed": false
   },
   "outputs": [
    {
     "ename": "NameError",
     "evalue": "name 'DownloadSongsAndLyrics' is not defined",
     "output_type": "error",
     "traceback": [
      "\u001b[0;31m---------------------------------------------------------------------------\u001b[0m",
      "\u001b[0;31mNameError\u001b[0m                                 Traceback (most recent call last)",
      "\u001b[0;32m<ipython-input-24-a05389a9dc6b>\u001b[0m in \u001b[0;36m<module>\u001b[0;34m()\u001b[0m\n\u001b[1;32m      1\u001b[0m \u001b[1;31m## Grab lyrics\u001b[0m\u001b[1;33m\u001b[0m\u001b[1;33m\u001b[0m\u001b[0m\n\u001b[0;32m----> 2\u001b[0;31m \u001b[0mdownloader\u001b[0m \u001b[1;33m=\u001b[0m \u001b[0mDownloadSongsAndLyrics\u001b[0m\u001b[1;33m(\u001b[0m\u001b[1;33m)\u001b[0m\u001b[1;33m\u001b[0m\u001b[0m\n\u001b[0m\u001b[1;32m      3\u001b[0m \u001b[0mall_charts\u001b[0m \u001b[1;33m=\u001b[0m \u001b[0mdownloader\u001b[0m\u001b[1;33m.\u001b[0m\u001b[0mget_all_songs_from_all_charts\u001b[0m\u001b[1;33m(\u001b[0m\u001b[1;33m)\u001b[0m\u001b[1;33m\u001b[0m\u001b[0m\n\u001b[1;32m      4\u001b[0m \u001b[0mall_charts\u001b[0m\u001b[1;33m.\u001b[0m\u001b[0mto_csv\u001b[0m\u001b[1;33m(\u001b[0m\u001b[1;34m'BillboardLyricData.txt'\u001b[0m\u001b[1;33m,\u001b[0m \u001b[0msep\u001b[0m\u001b[1;33m=\u001b[0m\u001b[1;34m'\\t'\u001b[0m\u001b[1;33m,\u001b[0m \u001b[0mencoding\u001b[0m\u001b[1;33m=\u001b[0m\u001b[1;34m'utf-8'\u001b[0m\u001b[1;33m)\u001b[0m \u001b[1;31m#write that bad boy out to file\u001b[0m\u001b[1;33m\u001b[0m\u001b[0m\n\u001b[1;32m      5\u001b[0m \u001b[0mprint\u001b[0m\u001b[1;33m(\u001b[0m\u001b[0mall_charts\u001b[0m\u001b[1;33m.\u001b[0m\u001b[0mtail\u001b[0m\u001b[1;33m(\u001b[0m\u001b[1;33m)\u001b[0m\u001b[1;33m)\u001b[0m\u001b[1;33m\u001b[0m\u001b[0m\n",
      "\u001b[0;31mNameError\u001b[0m: name 'DownloadSongsAndLyrics' is not defined"
     ]
    }
   ],
   "source": [
    "## Grab lyrics: use the above function\n",
    "downloader = DownloadSongsAndLyrics()\n",
    "all_charts = downloader.get_all_songs_from_all_charts()\n",
    "all_charts.to_csv('BillboardLyricData.txt', sep='\\t', encoding='utf-8') #write that bad boy out to file\n",
    "print(all_charts.tail())"
   ]
  },
  {
   "cell_type": "code",
   "execution_count": 77,
   "metadata": {
    "collapsed": false
   },
   "outputs": [],
   "source": [
    "class MultiClassLogisticRegressorPurePython(object):\n",
    "    \n",
    "    def __init__(self, lr, n_iter):\n",
    "        self.lr = lr\n",
    "        self.n_iter = n_iter\n",
    "\n",
    "    def fit(self, X, y):\n",
    "        self.n_classes_ = len(np.unique(y))\n",
    "        self.m_ = X.shape[0]\n",
    "        self.w_ = np.zeros((X.shape[1], self.n_classes_))\n",
    "        self.cost_ = []\n",
    "        \n",
    "        \n",
    "        for i in range(self.n_iter):\n",
    "            z = self.net_input(X)\n",
    "            assert not np.isnan(np.sum(z))\n",
    "            p_y = self.softmax_fn(z)\n",
    "            y_onehot = self.onehot_fn(y)\n",
    "            error = (y_onehot - p_y)\n",
    "            grad =  (-1 / self.m_) * X.T.dot(error) \n",
    "            self.w_ = self.w_ - (self.lr * grad)\n",
    "                \n",
    "        \n",
    "            cost = (-1 / self.m_) * np.sum(y_onehot * np.log(p_y))\n",
    "            self.cost_.append(cost)\n",
    "            \n",
    "        return self\n",
    "    \n",
    "    def onehot_fn(self, y):\n",
    "        onehot = np.eye(self.n_classes_)[y]\n",
    "        return onehot\n",
    "\n",
    "    def net_input(self, X):\n",
    "        return np.dot(X, self.w_)\n",
    "\n",
    "    def predict(self, X):\n",
    "        z = self.net_input(X)\n",
    "        return np.argmax(self.softmax_fn(z), axis=1)\n",
    "    \n",
    "    def softmax_fn(self, z):\n",
    "        z -= np.max(z)\n",
    "        softmax = (np.exp(z).T / np.sum(np.exp(z),axis=1)).T\n",
    "        return softmax"
   ]
  },
  {
   "cell_type": "code",
   "execution_count": 25,
   "metadata": {
    "collapsed": false
   },
   "outputs": [
    {
     "name": "stdout",
     "output_type": "stream",
     "text": [
      "Raw DataFrame size: (212, 8)\n",
      "Raw DataFrame size after missing data removed: (208, 8)\n"
     ]
    }
   ],
   "source": [
    "#If you are now downloading data, then start here\n",
    "all_charts = pd.read_csv('BillboardLyricData.txt', sep='\\t', encoding='utf-8')\n",
    "print('Raw DataFrame size:',all_charts.shape)"
   ]
  },
  {
   "cell_type": "code",
   "execution_count": null,
   "metadata": {
    "collapsed": true
   },
   "outputs": [],
   "source": [
    "## YOUR TASK 1: Remove missing data (hint: page 101, in Raschka)   \n",
    "all_charts = all_charts.dropna()\n",
    "print('Raw DataFrame size after missing data removed:',all_charts.shape)"
   ]
  },
  {
   "cell_type": "code",
   "execution_count": 80,
   "metadata": {
    "collapsed": false
   },
   "outputs": [
    {
     "name": "stdout",
     "output_type": "stream",
     "text": [
      "X data (word count features) size (208, 1097)\n"
     ]
    }
   ],
   "source": [
    "# Song lyrics are converted to vectors of word counts via sklearn\n",
    "n_features_to_extract_from_text = 3000 #Number of predictor variables (words to use as predictors)\n",
    "vectorizer = CountVectorizer(max_df=0.95, min_df=2,max_features=n_features_to_extract_from_text,stop_words='english')                              \n",
    "vectorizer.fit(all_charts.lyrics) #Creates the dictionary to convert lyrics to counts\n",
    "word_vector = vectorizer.transform(all_charts.lyrics) #Does actual conversion\n",
    "X = word_vector.todense()\n",
    "print('X data (word count features) size',X.shape)"
   ]
  },
  {
   "cell_type": "code",
   "execution_count": 81,
   "metadata": {
    "collapsed": false
   },
   "outputs": [],
   "source": [
    "# 7. YOUR TASK 2: Convert genre lables to ints\n",
    "class_mapping = {label:idx for idx,label in enumerate(np.unique(all_charts.chart))}\n",
    "y = all_charts.chart.map(class_mapping)"
   ]
  },
  {
   "cell_type": "code",
   "execution_count": 82,
   "metadata": {
    "collapsed": false
   },
   "outputs": [],
   "source": [
    "# split into train and test\n",
    "X_train, X_test, y_train, y_test = train_test_split(X, y, test_size=0.3)\n"
   ]
  },
  {
   "cell_type": "code",
   "execution_count": 83,
   "metadata": {
    "collapsed": false
   },
   "outputs": [
    {
     "name": "stdout",
     "output_type": "stream",
     "text": [
      "[[-0.08333333 -0.08333333 -0.11211526 ..., -0.14535047 -0.16843038\n",
      "  -0.26923077]\n",
      " [-0.08333333 -0.08333333 -0.11211526 ..., -0.14535047 -0.16843038\n",
      "  -0.26923077]\n",
      " [-0.08333333 -0.08333333 -0.11211526 ..., -0.14535047 -0.16843038\n",
      "  -0.26923077]\n",
      " ..., \n",
      " [-0.08333333 -0.08333333 -0.11211526 ..., -0.14535047 -0.16843038\n",
      "   2.51923077]\n",
      " [-0.08333333 -0.08333333 -0.11211526 ..., -0.14535047 -0.16843038\n",
      "  -0.26923077]\n",
      " [-0.08333333 -0.08333333 -0.11211526 ..., -0.14535047 -0.16843038\n",
      "  -0.26923077]]\n"
     ]
    },
    {
     "name": "stderr",
     "output_type": "stream",
     "text": [
      "C:\\Users\\bdyet\\Anaconda3\\lib\\site-packages\\sklearn\\utils\\validation.py:429: DataConversionWarning: Data with input dtype int64 was converted to float64 by StandardScaler.\n",
      "  warnings.warn(msg, _DataConversionWarning)\n"
     ]
    }
   ],
   "source": [
    "# YOUR TASK 4: Scale X Data (i.e. standardize between -1 and 1): See Raschka\n",
    "from sklearn.preprocessing import StandardScaler\n",
    "std_scaler = StandardScaler()\n",
    "X_train_std = std_scaler.fit_transform(X_train)\n",
    "X_test_std = std_scaler.transform(X_test)\n",
    "print(X_train_std)"
   ]
  },
  {
   "cell_type": "code",
   "execution_count": 84,
   "metadata": {
    "collapsed": false
   },
   "outputs": [
    {
     "data": {
      "image/png": "[encoded data removed]",
      "text/plain": [
       "<matplotlib.figure.Figure at 0x1c8d5e05278>"
      ]
     },
     "metadata": {},
     "output_type": "display_data"
    }
   ],
   "source": [
    "# instantiate and fit model\n",
    "model_1 = MultiClassLogisticRegressorPurePython(n_iter=1000, lr=0.1)\n",
    "model_1.fit(X_train_std, y_train)\n",
    "plt.plot(model_1.cost_)\n",
    "plt.show()"
   ]
  },
  {
   "cell_type": "code",
   "execution_count": 86,
   "metadata": {
    "collapsed": false
   },
   "outputs": [
    {
     "name": "stdout",
     "output_type": "stream",
     "text": [
      "[6 3 6 0 4 2 6 6 1 5 6 3 6 2 6 1 5 3 3 4 0 3 2 5 1 3 4 4 5 0 0 1 1 5 1 2 0\n",
      " 1 6 1 2 1 6 2 5 2 3 2 6 1 4 2 4 2 5 4 6 5 5 1 3 0 2 0 3 5 5 1 4 6 4 0 1 4\n",
      " 1 0 2 2 4 0 5 0 3 5 4 3 6 0 3 5 3 5 0 0 6 5 6 2 1 2 2 1 2 4 3 3 0 6 4 0 0\n",
      " 5 1 5 2 6 1 3 5 1 1 0 4 0 4 2 5 2 6 3 1 0 4 1 5 1 0 2 2 5 0 6 5 0 5]\n",
      "Train accuracy: 0.9586206896551724\n",
      "Test accuracy: 0.3333333333333333\n"
     ]
    }
   ],
   "source": [
    "# evaluate model\n",
    "print(model_1.predict(X_train_std))\n",
    "train_acc = np.sum(model_1.predict(X_train_std) == y_train) / float(len(X_train))\n",
    "test_acc = np.sum(model_1.predict(X_test_std) == y_test) / float(len(X_test))\n",
    "print('Train accuracy: {}'.format(train_acc))\n",
    "print('Test accuracy: {}'.format(test_acc))"
   ]
  },
  {
   "cell_type": "code",
   "execution_count": null,
   "metadata": {
    "collapsed": true
   },
   "outputs": [],
   "source": []
  }
 ],
 "metadata": {
  "kernelspec": {
   "display_name": "Python 3",
   "language": "python",
   "name": "python3"
  },
  "language_info": {
   "codemirror_mode": {
    "name": "ipython",
    "version": 3
   },
   "file_extension": ".py",
   "mimetype": "text/x-python",
   "name": "python",
   "nbconvert_exporter": "python",
   "pygments_lexer": "ipython3",
   "version": "3.6.0"
  }
 },
 "nbformat": 4,
 "nbformat_minor": 2
}
